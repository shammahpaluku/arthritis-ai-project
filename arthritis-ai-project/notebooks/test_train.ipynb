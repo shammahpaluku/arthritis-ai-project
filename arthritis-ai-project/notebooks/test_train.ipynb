{
  "cells": [
    {
      "cell_type": "code",
      "execution_count": null,
      "id": "dd17f51d",
      "metadata": {
        "id": "dd17f51d"
      },
      "outputs": [],
      "source": [
        "from google.colab import drive\n",
        "drive.mount('/content/drive')\n",
        "import tensorflow as tf\n",
        "from tensorflow.keras.applications import ResNet50\n",
        "from tensorflow.keras.layers import Dense, GlobalAveragePooling2D\n",
        "from tensorflow.keras.models import Model\n",
        "from tensorflow.keras.preprocessing.image import ImageDataGenerator\n",
        "import matplotlib.pyplot as plt\n",
        "import json\n",
        "import os"
      ]
    },
    {
      "cell_type": "code",
      "execution_count": null,
      "id": "586629f9",
      "metadata": {
        "id": "586629f9"
      },
      "outputs": [],
      "source": [
        "# Mini-config\n",
        "IMG_SIZE = (224, 224)\n",
        "BATCH_SIZE = 4  # Small batch for testing\n",
        "EPOCHS = 3  # Just 3 epochs for validation"
      ]
    },
    {
      "cell_type": "code",
      "execution_count": null,
      "id": "408ea500",
      "metadata": {
        "id": "408ea500"
      },
      "outputs": [],
      "source": [
        "# Data generators\n",
        "train_datagen = ImageDataGenerator(rescale=1./255)\n",
        "train_generator = train_datagen.flow_from_directory(\n",
        "    'data/test_train',\n",
        "    target_size=IMG_SIZE,\n",
        "    batch_size=BATCH_SIZE,\n",
        "    class_mode='categorical')"
      ]
    },
    {
      "cell_type": "code",
      "execution_count": null,
      "id": "4bb84cbe",
      "metadata": {
        "id": "4bb84cbe"
      },
      "outputs": [],
      "source": [
        "# Save class_indices for prediction use\n",
        "os.makedirs('models', exist_ok=True)  # Make sure 'models' directory exists\n",
        "with open('models/class_indices.json', 'w') as f:\n",
        "    json.dump(train_generator.class_indices, f)"
      ]
    },
    {
      "cell_type": "code",
      "execution_count": null,
      "id": "c5013709",
      "metadata": {
        "id": "c5013709"
      },
      "outputs": [],
      "source": [
        "# Model setup (frozen ResNet50 + 1 dense layer)\n",
        "base_model = ResNet50(weights='imagenet', include_top=False)\n",
        "x = base_model.output\n",
        "x = GlobalAveragePooling2D()(x)\n",
        "x = Dense(2, activation='softmax')(x)\n",
        "model = Model(base_model.input, x)"
      ]
    },
    {
      "cell_type": "code",
      "execution_count": null,
      "id": "bef4b52c",
      "metadata": {
        "id": "bef4b52c"
      },
      "outputs": [],
      "source": [
        "# Freeze base layers\n",
        "for layer in base_model.layers:\n",
        "    layer.trainable = False"
      ]
    },
    {
      "cell_type": "code",
      "execution_count": null,
      "id": "2af22686",
      "metadata": {
        "id": "2af22686"
      },
      "outputs": [],
      "source": [
        "model.compile(optimizer='adam', loss='categorical_crossentropy', metrics=['accuracy'])"
      ]
    },
    {
      "cell_type": "code",
      "execution_count": null,
      "id": "566db2cf",
      "metadata": {
        "id": "566db2cf"
      },
      "outputs": [],
      "source": [
        "# Test training\n",
        "history = model.fit(\n",
        "    train_generator,\n",
        "    steps_per_epoch=2,  # Just 2 batches per epoch\n",
        "    epochs=EPOCHS)"
      ]
    },
    {
      "cell_type": "code",
      "execution_count": null,
      "id": "e26c6459",
      "metadata": {
        "id": "e26c6459"
      },
      "outputs": [],
      "source": [
        "# Quick visualization\n",
        "plt.plot(history.history['accuracy'])\n",
        "plt.title('Test Training Accuracy')\n",
        "plt.savefig('models/test_training_plot.png')  # Save training plot\n",
        "plt.show()"
      ]
    },
    {
      "cell_type": "code",
      "execution_count": null,
      "id": "21f1aac7",
      "metadata": {
        "id": "21f1aac7"
      },
      "outputs": [],
      "source": [
        "# Save trained model\n",
        "model.save('models/test_model.h5')"
      ]
    },
    {
      "cell_type": "code",
      "execution_count": null,
      "id": "0d14b2d5",
      "metadata": {
        "id": "0d14b2d5"
      },
      "outputs": [],
      "source": []
    },
    {
      "cell_type": "code",
      "execution_count": null,
      "id": "b2074de1",
      "metadata": {
        "id": "b2074de1"
      },
      "outputs": [],
      "source": [
        "print(\"\\n🔥 Test successful! Pipeline works.\")\n",
        "print(\"✅ class_indices.json saved inside 'models/'!\")\n",
        "print(\"✅ Training plot saved inside 'models/test_training_plot.png'.\")\n",
        "print(\"Next step: Push to Colab with full dataset\")"
      ]
    }
  ],
  "metadata": {
    "jupytext": {
      "cell_metadata_filter": "-all",
      "main_language": "python",
      "notebook_metadata_filter": "-all"
    },
    "colab": {
      "provenance": []
    }
  },
  "nbformat": 4,
  "nbformat_minor": 5
}