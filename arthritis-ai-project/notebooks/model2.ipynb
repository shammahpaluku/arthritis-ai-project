# %% [markdown]
# # 🚀 Ultimate Arthritis AI Trainer
# **With Class Balancing • TPU/GPU Support • Test-Time Augmentation**

# %% [code]
# @title 1. Setup Environment
!pip install tensorflow==2.10.0 tensorflowjs==4.4.0 scikit-learn -q
import tensorflow as tf
import numpy as np
from sklearn.utils import class_weight
import matplotlib.pyplot as plt

print("TensorFlow version:", tf.__version__)

# %% [code]
# @title 2. Configure Accelerator
try:
    tpu = tf.distribute.cluster_resolver.TPUClusterResolver.connect()
    strategy = tf.distribute.TPUStrategy(tpu)
    print("🚀 Using TPU")
except ValueError:
    strategy = tf.distribute.MirroredStrategy()
    print("💻 Using GPU/CPU")

# %% [code]
# @title 3. Mount Google Drive
from google.colab import drive
drive.mount('/content/drive')

# %% [code]
# @title 4. Configure Data Paths
train_dir = '/content/drive/MyDrive/data/train'  # CHANGE THIS
val_dir = '/content/drive/MyDrive/data/validation'  # CHANGE THIS

# %% [code]
# @title 5. Enhanced Data Pipeline
IMG_SIZE = (224, 224)
BATCH_SIZE = 64 if 'TPU' in str(strategy) else 32

# Class-balanced data generator
train_datagen = tf.keras.preprocessing.image.ImageDataGenerator(
    rescale=1./255,
    rotation_range=25,
    width_shift_range=0.15,
    height_shift_range=0.15,
    shear_range=0.15,
    zoom_range=0.15,
    horizontal_flip=True,
    fill_mode='reflect'
)

train_generator = train_datagen.flow_from_directory(
    train_dir,
    target_size=IMG_SIZE,
    batch_size=BATCH_SIZE,
    class_mode='categorical'
)

# Compute class weights
class_weights = class_weight.compute_class_weight(
    'balanced',
    classes=np.unique(train_generator.classes),
    y=train_generator.classes
)
class_weights = dict(enumerate(class_weights))
print("⚖️ Class Weights:", class_weights)

# %% [code]
# @title 6. Build Enhanced Model
with strategy.scope():
    base_model = tf.keras.applications.ResNet50V2(
        weights='imagenet',
        include_top=False,
        input_shape=(IMG_SIZE[0], IMG_SIZE[1], 3)
    )
    
    # Freeze first 80% layers
    for layer in base_model.layers[:int(len(base_model.layers)*0.8)]:
        layer.trainable = False
        
    # Custom head
    x = base_model.output
    x = tf.keras.layers.GlobalAveragePooling2D()(x)
    x = tf.keras.layers.Dense(1024, activation='swish')(x)
    x = tf.keras.layers.Dropout(0.5)(x)
    predictions = tf.keras.layers.Dense(2, activation='softmax')(x)
    
    model = tf.keras.Model(base_model.input, predictions)
    
    model.compile(
        optimizer=tf.keras.optimizers.AdamW(learning_rate=1e-5),
        loss='categorical_crossentropy',
        metrics=['accuracy', tf.keras.metrics.AUC(name='auc')]
    )

model.summary()

# %% [code]
# @title 7. Train with Callbacks
callbacks = [
    tf.keras.callbacks.EarlyStopping(patience=7, restore_best_weights=True),
    tf.keras.callbacks.ModelCheckpoint('/content/best_model.h5', save_best_only=True),
    tf.keras.callbacks.ReduceLROnPlateau(factor=0.2, patience=3)
]

history = model.fit(
    train_generator,
    steps_per_epoch=len(train_generator),
    validation_data=val_generator,
    validation_steps=len(val_generator),
    epochs=50,
    class_weight=class_weights,
    callbacks=callbacks
)

# %% [code]
# @title 8. Test-Time Augmentation
def predict_with_tta(model, image_path, n_aug=5):
    img = tf.keras.preprocessing.image.load_img(image_path, target_size=IMG_SIZE)
    img_array = tf.keras.preprocessing.image.img_to_array(img)/255.
    
    tta_datagen = tf.keras.preprocessing.image.ImageDataGenerator(
        rotation_range=15,
        width_shift_range=0.1,
        height_shift_range=0.1,
        horizontal_flip=True
    )
    
    preds = []
    for _ in range(n_aug):
        aug_img = tta_datagen.random_transform(img_array)
        pred = model.predict(np.expand_dims(aug_img, axis=0))
        preds.append(pred)
    
    return np.mean(preds, axis=0)

# Example usage:
# tta_pred = predict_with_tta(model, '/path/to/test_image.jpg')

# %% [code]
# @title 9. Save and Export
# Save full model
model.save('/content/final_model.h5')

# Convert to TFJS
!tensorflowjs_converter \
    --input_format=keras \
    --quantize_float16 \
    /content/final_model.h5 \
    /content/tfjs_model

# Download results
from google.colab import files
files.download('/content/final_model.h5')
!zip -r /content/tfjs_model.zip /content/tfjs_model
files.download('/content/tfjs_model.zip')
