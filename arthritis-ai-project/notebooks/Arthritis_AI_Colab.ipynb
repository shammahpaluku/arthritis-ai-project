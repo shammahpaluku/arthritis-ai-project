# %% [markdown]
# # Arthritis AI - Colab Training Pipeline
# [![Open In Colab](https://colab.research.google.com/assets/colab-badge.svg)](https://colab.research.google.com/github/shammahpaluku/arthritis-ai-project/blob/main/notebooks/Arthritis_AI_Colab.ipynb)

# %% [code]
# 1. Setup Environment
!pip install tensorflow-gpu==2.10.0 matplotlib pillow

# 2. Clone your repository
!git clone https://github.com/shammahpaluku/arthritis-ai-project.git
%cd arthritis-ai-project

# 3. Prepare Data (Choose one option)

# OPTION A: Mount Google Drive (if data is in Drive)
from google.colab import drive
drive.mount('/content/drive')
!ln -s "/content/drive/MyDrive/your_data_folder" "data/"

# OPTION B: Direct upload (for small datasets)
from google.colab import files
uploaded = files.upload()
!unzip -q "/content/your_dataset.zip" -d "data/"

# %% [code]
# 4. Run Training with Node.js Integration
!python src/train_model.py \
    --train_dir "data/train" \
    --val_dir "data/validation" \
    --epochs 20 \
    --batch_size 32

# 5. Save outputs back to Drive (optional)
!cp -r models/ "/content/drive/MyDrive/arthritis_ai_outputs"

# %% [code]
# 6. Generate Prediction API Files
!python src/predict.py --export_tflite  # Add this flag to your predict.py
